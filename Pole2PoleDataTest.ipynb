{
  "nbformat": 4,
  "nbformat_minor": 0,
  "metadata": {
    "colab": {
      "provenance": [],
      "authorship_tag": "ABX9TyODAbIWeFNXIK8UfAAK+gSw",
      "include_colab_link": true
    },
    "kernelspec": {
      "name": "python3",
      "display_name": "Python 3"
    },
    "language_info": {
      "name": "python"
    }
  },
  "cells": [
    {
      "cell_type": "markdown",
      "metadata": {
        "id": "view-in-github",
        "colab_type": "text"
      },
      "source": [
        "<a href=\"https://colab.research.google.com/github/bhertzberg/Pole2PoleData/blob/main/Pole2PoleDataTest.ipynb\" target=\"_parent\"><img src=\"https://colab.research.google.com/assets/colab-badge.svg\" alt=\"Open In Colab\"/></a>"
      ]
    },
    {
      "cell_type": "code",
      "source": [
        "import re\n",
        "import pandas as pd"
      ],
      "metadata": {
        "id": "oU2fYG-clPJg"
      },
      "execution_count": 95,
      "outputs": []
    },
    {
      "cell_type": "code",
      "source": [
        "from google.colab import drive\n",
        "drive.mount('/content/drive')"
      ],
      "metadata": {
        "colab": {
          "base_uri": "https://localhost:8080/"
        },
        "id": "2O78yxYt4Ysj",
        "outputId": "c7ebe0fd-eb05-4878-86d6-96c6e1e38b9d"
      },
      "execution_count": 123,
      "outputs": [
        {
          "output_type": "stream",
          "name": "stdout",
          "text": [
            "Mounted at /content/drive\n"
          ]
        }
      ]
    },
    {
      "cell_type": "code",
      "execution_count": 58,
      "metadata": {
        "id": "CyLYPy1qZEhT"
      },
      "outputs": [],
      "source": [
        "test = open('out.log', 'r')"
      ]
    },
    {
      "cell_type": "code",
      "source": [
        "contents = test.read()\n",
        "\n",
        "test.close()"
      ],
      "metadata": {
        "id": "g7B_suNAa58U"
      },
      "execution_count": 59,
      "outputs": []
    },
    {
      "cell_type": "code",
      "source": [
        "print(contents)"
      ],
      "metadata": {
        "id": "8ofr6UujbEv1"
      },
      "execution_count": null,
      "outputs": []
    },
    {
      "cell_type": "code",
      "source": [
        "def extract_data(text):\n",
        "    data = []\n",
        "    dataNum = 1\n",
        "    key = 'DATA'\n",
        "    dataLines = text.split('\\n')\n",
        "    for i in range(len(dataLines)):\n",
        "        if key in dataLines[i]:\n",
        "          dataPoint = ''\n",
        "          j = 0\n",
        "          for j in range(7):\n",
        "            dataPoint += dataLines[i+j]\n",
        "          data.append(str(dataNum) + ' ' + dataPoint)\n",
        "          dataNum +=1\n",
        "    return data"
      ],
      "metadata": {
        "id": "PPdezW7oc1bg"
      },
      "execution_count": 63,
      "outputs": []
    },
    {
      "cell_type": "code",
      "source": [
        "dataList = extract_data(contents)"
      ],
      "metadata": {
        "id": "m_i0l3cGdS5y"
      },
      "execution_count": 64,
      "outputs": []
    },
    {
      "cell_type": "code",
      "source": [
        "dataList"
      ],
      "metadata": {
        "colab": {
          "base_uri": "https://localhost:8080/"
        },
        "id": "UKUX-tDbdWq1",
        "outputId": "18612771-2739-4c4d-d8f1-fceb92be8458"
      },
      "execution_count": 65,
      "outputs": [
        {
          "output_type": "execute_result",
          "data": {
            "text/plain": [
              "['1 0:00:02.670 DATA:\\tvbat:4850 therm:1683 err:0\\ttherm:2145 press:731688 hum:12 alt:68 err:0\\tdd:28 mm:6 yyyy:2006 time:115946.000000 lat:0.000000degN lon:0.000000degE alt:0.000000 fix:0 sat:0 dil:0.000000 ms:2076 err:0\\tax:0.298828 ay:1.048828 az:0.373535 gx:7.328244 gy:-4.763359 gz:2.427481 therm:23.668703 err:0\\tch0:2763 ch1:2924 err:0\\ttherm0:1842 therm1:1908 err:0',\n",
              " '2 0:01:05.215 DATA:\\tvbat:4825 therm:1941 err:0\\ttherm:2121 press:731191 hum:12 alt:95 err:0\\tdd:20 mm:12 yyyy:2019 time:170238.000000 lat:0.000000degN lon:0.000000degE alt:0.000000 fix:0 sat:0 dil:0.000000 ms:64095 err:0\\tax:-0.411133 ay:1.321289 az:-0.100830 gx:6.961832 gy:-3.816794 gz:11.946565 therm:23.572857 err:0\\tch0:2849 ch1:1968 err:0\\ttherm0:1824 therm1:1884 err:0',\n",
              " '3 0:02:07.891 DATA:\\tvbat:4825 therm:1877 err:0\\ttherm:2101 press:731162 hum:13 alt:126 err:0\\tdd:20 mm:12 yyyy:2019 time:170341.000000 lat:0.000000degN lon:0.000000degE alt:0.000000 fix:0 sat:0 dil:0.000000 ms:127099 err:0\\tax:-0.339844 ay:0.975342 az:0.044189 gx:6.717557 gy:0.061069 gz:15.244275 therm:23.333244 err:0\\tch0:1947 ch1:2508 err:0\\ttherm0:1806 therm1:1866 err:0',\n",
              " '4 0:03:10.592 DATA:\\tvbat:4842 therm:1909 err:0\\ttherm:2079 press:731247 hum:13 alt:34 err:0\\tdd:20 mm:12 yyyy:2019 time:170444.000000 lat:0.000000degN lon:0.000000degE alt:0.000000 fix:0 sat:0 dil:0.000000 ms:190097 err:0\\tax:-0.156494 ay:0.786621 az:0.031494 gx:5.496183 gy:-1.366412 gz:2.236641 therm:23.141552 err:0\\tch0:2247 ch1:1976 err:0\\ttherm0:1782 therm1:1848 err:0',\n",
              " '5 0:04:12.700 DATA:\\tvbat:4866 therm:1909 err:0\\ttherm:2057 press:731119 hum:13 alt:173 err:0\\tdd:20 mm:12 yyyy:2019 time:170546.000000 lat:0.000000degN lon:0.000000degE alt:0.000000 fix:0 sat:0 dil:0.000000 ms:252102 err:0\\tax:-0.470459 ay:0.976807 az:0.028809 gx:5.007634 gy:-0.442748 gz:19.038168 therm:23.045706 err:0\\tch0:2032 ch1:1975 err:0\\ttherm0:1758 therm1:1824 err:0',\n",
              " '6 0:05:15.497 DATA:\\tvbat:4882 therm:1845 err:0\\ttherm:2035 press:730874 hum:13 alt:183 err:0\\tdd:20 mm:12 yyyy:2019 time:170649.000000 lat:0.000000degN lon:0.000000degE alt:0.000000 fix:0 sat:0 dil:0.000000 ms:315100 err:0\\tax:-0.310059 ay:1.008301 az:-0.162598 gx:4.274809 gy:-2.572519 gz:7.587786 therm:22.806091 err:0\\tch0:2053 ch1:1993 err:0\\ttherm0:1734 therm1:1800 err:0']"
            ]
          },
          "metadata": {},
          "execution_count": 65
        }
      ]
    },
    {
      "cell_type": "code",
      "source": [
        "#for all output files\n",
        "#iterate through all folders by changing string of file path\n",
        "#add iterator to data extract function, to mark data with original output log\n"
      ],
      "metadata": {
        "id": "IZblHHbRdZMi"
      },
      "execution_count": 23,
      "outputs": []
    },
    {
      "cell_type": "code",
      "source": [
        "def split_Data(dataPt):\n",
        "  split = re.split('\\n|\\t|\\s', dataPt)\n",
        "  return split\n"
      ],
      "metadata": {
        "id": "lMwnJ4DshjhU"
      },
      "execution_count": 52,
      "outputs": []
    },
    {
      "cell_type": "code",
      "source": [
        "def extract_data_details(text):\n",
        "    dataNum = 1\n",
        "    data = []\n",
        "    key = 'DATA'\n",
        "    dataLines = text.split('\\n')\n",
        "    for i in range(len(dataLines)):\n",
        "        if key in dataLines[i]:\n",
        "          dataPoint = ''\n",
        "          j = 0\n",
        "          for j in range(7):\n",
        "            dataPoint += dataLines[i+j]\n",
        "          splitData = [dataNum]\n",
        "          splitData += (split_Data(dataPoint))\n",
        "          data.append(splitData)\n",
        "          dataNum +=1\n",
        "    return data"
      ],
      "metadata": {
        "id": "tlmx29sBpjhy"
      },
      "execution_count": 90,
      "outputs": []
    },
    {
      "cell_type": "code",
      "source": [
        "split_data = extract_data_details(contents)"
      ],
      "metadata": {
        "id": "bAHTTA-4h1LD"
      },
      "execution_count": 91,
      "outputs": []
    },
    {
      "cell_type": "code",
      "source": [
        "split_data"
      ],
      "metadata": {
        "id": "I8QZYk6tidJo"
      },
      "execution_count": null,
      "outputs": []
    },
    {
      "cell_type": "code",
      "source": [
        "cols = ['pic #', 'runtime', 'DATA', 'vbat', 'therm_line1', 'err_line1', 'therm_line2', 'press', 'hum', 'alt', 'err_line2', 'dd', 'mm', 'yyyy', 'time', 'lat', 'lon',\n",
        "           'alt', 'fix', 'sat', 'dil', 'ms', 'err_line3', 'ax', 'ay', 'az', 'gx', 'gy', 'gz', 'therm_line4', 'err_line4', 'ch0', 'ch1', 'err_line5', 'therm0', 'therm1',\n",
        "           'err_line5']\n"
      ],
      "metadata": {
        "id": "ctmozcuFjfaH"
      },
      "execution_count": 119,
      "outputs": []
    },
    {
      "cell_type": "code",
      "source": [
        "df = pd.DataFrame(split_data, columns=cols)\n"
      ],
      "metadata": {
        "id": "1tBu204n170m"
      },
      "execution_count": 121,
      "outputs": []
    },
    {
      "cell_type": "code",
      "source": [
        "df"
      ],
      "metadata": {
        "colab": {
          "base_uri": "https://localhost:8080/",
          "height": 348
        },
        "id": "J_AsLRHZ2gcY",
        "outputId": "f25b2ac6-cf03-4ff7-9d88-1b1306a4c0ab"
      },
      "execution_count": 122,
      "outputs": [
        {
          "output_type": "execute_result",
          "data": {
            "text/plain": [
              "   pic #      runtime   DATA       vbat therm_line1 err_line1 therm_line2  \\\n",
              "0      1  0:00:02.670  DATA:  vbat:4850  therm:1683     err:0  therm:2145   \n",
              "1      2  0:01:05.215  DATA:  vbat:4825  therm:1941     err:0  therm:2121   \n",
              "2      3  0:02:07.891  DATA:  vbat:4825  therm:1877     err:0  therm:2101   \n",
              "3      4  0:03:10.592  DATA:  vbat:4842  therm:1909     err:0  therm:2079   \n",
              "4      5  0:04:12.700  DATA:  vbat:4866  therm:1909     err:0  therm:2057   \n",
              "5      6  0:05:15.497  DATA:  vbat:4882  therm:1845     err:0  therm:2035   \n",
              "\n",
              "          press     hum      alt  ...            gy            gz  \\\n",
              "0  press:731688  hum:12   alt:68  ...  gy:-4.763359   gz:2.427481   \n",
              "1  press:731191  hum:12   alt:95  ...  gy:-3.816794  gz:11.946565   \n",
              "2  press:731162  hum:13  alt:126  ...   gy:0.061069  gz:15.244275   \n",
              "3  press:731247  hum:13   alt:34  ...  gy:-1.366412   gz:2.236641   \n",
              "4  press:731119  hum:13  alt:173  ...  gy:-0.442748  gz:19.038168   \n",
              "5  press:730874  hum:13  alt:183  ...  gy:-2.572519   gz:7.587786   \n",
              "\n",
              "       therm_line4 err_line4       ch0       ch1 err_line5       therm0  \\\n",
              "0  therm:23.668703     err:0  ch0:2763  ch1:2924     err:0  therm0:1842   \n",
              "1  therm:23.572857     err:0  ch0:2849  ch1:1968     err:0  therm0:1824   \n",
              "2  therm:23.333244     err:0  ch0:1947  ch1:2508     err:0  therm0:1806   \n",
              "3  therm:23.141552     err:0  ch0:2247  ch1:1976     err:0  therm0:1782   \n",
              "4  therm:23.045706     err:0  ch0:2032  ch1:1975     err:0  therm0:1758   \n",
              "5  therm:22.806091     err:0  ch0:2053  ch1:1993     err:0  therm0:1734   \n",
              "\n",
              "        therm1 err_line5  \n",
              "0  therm1:1908     err:0  \n",
              "1  therm1:1884     err:0  \n",
              "2  therm1:1866     err:0  \n",
              "3  therm1:1848     err:0  \n",
              "4  therm1:1824     err:0  \n",
              "5  therm1:1800     err:0  \n",
              "\n",
              "[6 rows x 37 columns]"
            ],
            "text/html": [
              "\n",
              "  <div id=\"df-889408ca-e7b5-462f-9da2-d887e778f0ac\">\n",
              "    <div class=\"colab-df-container\">\n",
              "      <div>\n",
              "<style scoped>\n",
              "    .dataframe tbody tr th:only-of-type {\n",
              "        vertical-align: middle;\n",
              "    }\n",
              "\n",
              "    .dataframe tbody tr th {\n",
              "        vertical-align: top;\n",
              "    }\n",
              "\n",
              "    .dataframe thead th {\n",
              "        text-align: right;\n",
              "    }\n",
              "</style>\n",
              "<table border=\"1\" class=\"dataframe\">\n",
              "  <thead>\n",
              "    <tr style=\"text-align: right;\">\n",
              "      <th></th>\n",
              "      <th>pic #</th>\n",
              "      <th>runtime</th>\n",
              "      <th>DATA</th>\n",
              "      <th>vbat</th>\n",
              "      <th>therm_line1</th>\n",
              "      <th>err_line1</th>\n",
              "      <th>therm_line2</th>\n",
              "      <th>press</th>\n",
              "      <th>hum</th>\n",
              "      <th>alt</th>\n",
              "      <th>...</th>\n",
              "      <th>gy</th>\n",
              "      <th>gz</th>\n",
              "      <th>therm_line4</th>\n",
              "      <th>err_line4</th>\n",
              "      <th>ch0</th>\n",
              "      <th>ch1</th>\n",
              "      <th>err_line5</th>\n",
              "      <th>therm0</th>\n",
              "      <th>therm1</th>\n",
              "      <th>err_line5</th>\n",
              "    </tr>\n",
              "  </thead>\n",
              "  <tbody>\n",
              "    <tr>\n",
              "      <th>0</th>\n",
              "      <td>1</td>\n",
              "      <td>0:00:02.670</td>\n",
              "      <td>DATA:</td>\n",
              "      <td>vbat:4850</td>\n",
              "      <td>therm:1683</td>\n",
              "      <td>err:0</td>\n",
              "      <td>therm:2145</td>\n",
              "      <td>press:731688</td>\n",
              "      <td>hum:12</td>\n",
              "      <td>alt:68</td>\n",
              "      <td>...</td>\n",
              "      <td>gy:-4.763359</td>\n",
              "      <td>gz:2.427481</td>\n",
              "      <td>therm:23.668703</td>\n",
              "      <td>err:0</td>\n",
              "      <td>ch0:2763</td>\n",
              "      <td>ch1:2924</td>\n",
              "      <td>err:0</td>\n",
              "      <td>therm0:1842</td>\n",
              "      <td>therm1:1908</td>\n",
              "      <td>err:0</td>\n",
              "    </tr>\n",
              "    <tr>\n",
              "      <th>1</th>\n",
              "      <td>2</td>\n",
              "      <td>0:01:05.215</td>\n",
              "      <td>DATA:</td>\n",
              "      <td>vbat:4825</td>\n",
              "      <td>therm:1941</td>\n",
              "      <td>err:0</td>\n",
              "      <td>therm:2121</td>\n",
              "      <td>press:731191</td>\n",
              "      <td>hum:12</td>\n",
              "      <td>alt:95</td>\n",
              "      <td>...</td>\n",
              "      <td>gy:-3.816794</td>\n",
              "      <td>gz:11.946565</td>\n",
              "      <td>therm:23.572857</td>\n",
              "      <td>err:0</td>\n",
              "      <td>ch0:2849</td>\n",
              "      <td>ch1:1968</td>\n",
              "      <td>err:0</td>\n",
              "      <td>therm0:1824</td>\n",
              "      <td>therm1:1884</td>\n",
              "      <td>err:0</td>\n",
              "    </tr>\n",
              "    <tr>\n",
              "      <th>2</th>\n",
              "      <td>3</td>\n",
              "      <td>0:02:07.891</td>\n",
              "      <td>DATA:</td>\n",
              "      <td>vbat:4825</td>\n",
              "      <td>therm:1877</td>\n",
              "      <td>err:0</td>\n",
              "      <td>therm:2101</td>\n",
              "      <td>press:731162</td>\n",
              "      <td>hum:13</td>\n",
              "      <td>alt:126</td>\n",
              "      <td>...</td>\n",
              "      <td>gy:0.061069</td>\n",
              "      <td>gz:15.244275</td>\n",
              "      <td>therm:23.333244</td>\n",
              "      <td>err:0</td>\n",
              "      <td>ch0:1947</td>\n",
              "      <td>ch1:2508</td>\n",
              "      <td>err:0</td>\n",
              "      <td>therm0:1806</td>\n",
              "      <td>therm1:1866</td>\n",
              "      <td>err:0</td>\n",
              "    </tr>\n",
              "    <tr>\n",
              "      <th>3</th>\n",
              "      <td>4</td>\n",
              "      <td>0:03:10.592</td>\n",
              "      <td>DATA:</td>\n",
              "      <td>vbat:4842</td>\n",
              "      <td>therm:1909</td>\n",
              "      <td>err:0</td>\n",
              "      <td>therm:2079</td>\n",
              "      <td>press:731247</td>\n",
              "      <td>hum:13</td>\n",
              "      <td>alt:34</td>\n",
              "      <td>...</td>\n",
              "      <td>gy:-1.366412</td>\n",
              "      <td>gz:2.236641</td>\n",
              "      <td>therm:23.141552</td>\n",
              "      <td>err:0</td>\n",
              "      <td>ch0:2247</td>\n",
              "      <td>ch1:1976</td>\n",
              "      <td>err:0</td>\n",
              "      <td>therm0:1782</td>\n",
              "      <td>therm1:1848</td>\n",
              "      <td>err:0</td>\n",
              "    </tr>\n",
              "    <tr>\n",
              "      <th>4</th>\n",
              "      <td>5</td>\n",
              "      <td>0:04:12.700</td>\n",
              "      <td>DATA:</td>\n",
              "      <td>vbat:4866</td>\n",
              "      <td>therm:1909</td>\n",
              "      <td>err:0</td>\n",
              "      <td>therm:2057</td>\n",
              "      <td>press:731119</td>\n",
              "      <td>hum:13</td>\n",
              "      <td>alt:173</td>\n",
              "      <td>...</td>\n",
              "      <td>gy:-0.442748</td>\n",
              "      <td>gz:19.038168</td>\n",
              "      <td>therm:23.045706</td>\n",
              "      <td>err:0</td>\n",
              "      <td>ch0:2032</td>\n",
              "      <td>ch1:1975</td>\n",
              "      <td>err:0</td>\n",
              "      <td>therm0:1758</td>\n",
              "      <td>therm1:1824</td>\n",
              "      <td>err:0</td>\n",
              "    </tr>\n",
              "    <tr>\n",
              "      <th>5</th>\n",
              "      <td>6</td>\n",
              "      <td>0:05:15.497</td>\n",
              "      <td>DATA:</td>\n",
              "      <td>vbat:4882</td>\n",
              "      <td>therm:1845</td>\n",
              "      <td>err:0</td>\n",
              "      <td>therm:2035</td>\n",
              "      <td>press:730874</td>\n",
              "      <td>hum:13</td>\n",
              "      <td>alt:183</td>\n",
              "      <td>...</td>\n",
              "      <td>gy:-2.572519</td>\n",
              "      <td>gz:7.587786</td>\n",
              "      <td>therm:22.806091</td>\n",
              "      <td>err:0</td>\n",
              "      <td>ch0:2053</td>\n",
              "      <td>ch1:1993</td>\n",
              "      <td>err:0</td>\n",
              "      <td>therm0:1734</td>\n",
              "      <td>therm1:1800</td>\n",
              "      <td>err:0</td>\n",
              "    </tr>\n",
              "  </tbody>\n",
              "</table>\n",
              "<p>6 rows × 37 columns</p>\n",
              "</div>\n",
              "      <button class=\"colab-df-convert\" onclick=\"convertToInteractive('df-889408ca-e7b5-462f-9da2-d887e778f0ac')\"\n",
              "              title=\"Convert this dataframe to an interactive table.\"\n",
              "              style=\"display:none;\">\n",
              "        \n",
              "  <svg xmlns=\"http://www.w3.org/2000/svg\" height=\"24px\"viewBox=\"0 0 24 24\"\n",
              "       width=\"24px\">\n",
              "    <path d=\"M0 0h24v24H0V0z\" fill=\"none\"/>\n",
              "    <path d=\"M18.56 5.44l.94 2.06.94-2.06 2.06-.94-2.06-.94-.94-2.06-.94 2.06-2.06.94zm-11 1L8.5 8.5l.94-2.06 2.06-.94-2.06-.94L8.5 2.5l-.94 2.06-2.06.94zm10 10l.94 2.06.94-2.06 2.06-.94-2.06-.94-.94-2.06-.94 2.06-2.06.94z\"/><path d=\"M17.41 7.96l-1.37-1.37c-.4-.4-.92-.59-1.43-.59-.52 0-1.04.2-1.43.59L10.3 9.45l-7.72 7.72c-.78.78-.78 2.05 0 2.83L4 21.41c.39.39.9.59 1.41.59.51 0 1.02-.2 1.41-.59l7.78-7.78 2.81-2.81c.8-.78.8-2.07 0-2.86zM5.41 20L4 18.59l7.72-7.72 1.47 1.35L5.41 20z\"/>\n",
              "  </svg>\n",
              "      </button>\n",
              "      \n",
              "  <style>\n",
              "    .colab-df-container {\n",
              "      display:flex;\n",
              "      flex-wrap:wrap;\n",
              "      gap: 12px;\n",
              "    }\n",
              "\n",
              "    .colab-df-convert {\n",
              "      background-color: #E8F0FE;\n",
              "      border: none;\n",
              "      border-radius: 50%;\n",
              "      cursor: pointer;\n",
              "      display: none;\n",
              "      fill: #1967D2;\n",
              "      height: 32px;\n",
              "      padding: 0 0 0 0;\n",
              "      width: 32px;\n",
              "    }\n",
              "\n",
              "    .colab-df-convert:hover {\n",
              "      background-color: #E2EBFA;\n",
              "      box-shadow: 0px 1px 2px rgba(60, 64, 67, 0.3), 0px 1px 3px 1px rgba(60, 64, 67, 0.15);\n",
              "      fill: #174EA6;\n",
              "    }\n",
              "\n",
              "    [theme=dark] .colab-df-convert {\n",
              "      background-color: #3B4455;\n",
              "      fill: #D2E3FC;\n",
              "    }\n",
              "\n",
              "    [theme=dark] .colab-df-convert:hover {\n",
              "      background-color: #434B5C;\n",
              "      box-shadow: 0px 1px 3px 1px rgba(0, 0, 0, 0.15);\n",
              "      filter: drop-shadow(0px 1px 2px rgba(0, 0, 0, 0.3));\n",
              "      fill: #FFFFFF;\n",
              "    }\n",
              "  </style>\n",
              "\n",
              "      <script>\n",
              "        const buttonEl =\n",
              "          document.querySelector('#df-889408ca-e7b5-462f-9da2-d887e778f0ac button.colab-df-convert');\n",
              "        buttonEl.style.display =\n",
              "          google.colab.kernel.accessAllowed ? 'block' : 'none';\n",
              "\n",
              "        async function convertToInteractive(key) {\n",
              "          const element = document.querySelector('#df-889408ca-e7b5-462f-9da2-d887e778f0ac');\n",
              "          const dataTable =\n",
              "            await google.colab.kernel.invokeFunction('convertToInteractive',\n",
              "                                                     [key], {});\n",
              "          if (!dataTable) return;\n",
              "\n",
              "          const docLinkHtml = 'Like what you see? Visit the ' +\n",
              "            '<a target=\"_blank\" href=https://colab.research.google.com/notebooks/data_table.ipynb>data table notebook</a>'\n",
              "            + ' to learn more about interactive tables.';\n",
              "          element.innerHTML = '';\n",
              "          dataTable['output_type'] = 'display_data';\n",
              "          await google.colab.output.renderOutput(dataTable, element);\n",
              "          const docLink = document.createElement('div');\n",
              "          docLink.innerHTML = docLinkHtml;\n",
              "          element.appendChild(docLink);\n",
              "        }\n",
              "      </script>\n",
              "    </div>\n",
              "  </div>\n",
              "  "
            ]
          },
          "metadata": {},
          "execution_count": 122
        }
      ]
    },
    {
      "cell_type": "code",
      "source": [],
      "metadata": {
        "id": "9uLnqJ_63-9a"
      },
      "execution_count": null,
      "outputs": []
    }
  ]
}